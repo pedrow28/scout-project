{
 "cells": [
  {
   "cell_type": "code",
   "execution_count": null,
   "metadata": {},
   "outputs": [],
   "source": [
    "from src.iterator import LeagueScraper\n",
    "from src.scrapper import PlayerScoutScraper"
   ]
  },
  {
   "cell_type": "code",
   "execution_count": null,
   "metadata": {},
   "outputs": [],
   "source": [
    "## Testing LeagueScraper\n",
    "\n",
    "# URL da página principal da liga\n",
    "url_liga = \"https://fbref.com/pt/comps/24/Serie-A-Estatisticas\"\n",
    "\n",
    "    \n",
    "# Criando a instância do scraper\n",
    "scraper = LeagueScraper(url_liga)\n",
    "\n",
    "# Executando o scraper\n",
    "players_data = scraper.run()\n",
    "\n",
    "# Exibindo o resultado final\n",
    "print(\"\\nInformações completas dos jogadores extraídas:\")\n",
    "for player, data in players_data.items():\n",
    "        print(f\"Jogador: {player}, Clube: {data['clube']}, URL: {data['url']}, Scout URL: {data['scout_url']}\")"
   ]
  },
  {
   "cell_type": "code",
   "execution_count": null,
   "metadata": {},
   "outputs": [],
   "source": [
    "## Testing player scout scraper\n",
    "\n",
    "# Substitua por seu mega dicionário de jogadores\n",
    "players_data = {\n",
    "    \"Hulk\": {\n",
    "        \"clube\": \"Atlético Mineiro\",\n",
    "        \"scout_url\": \"https://fbref.com/pt/jogadores/33a1f72e/scout/365_m2/Relatorio-de-Observacao-de-Hulk\"\n",
    "    }\n",
    "}\n",
    "\n",
    "scraper = PlayerScoutScraper(players_data)\n",
    "result = scraper.run()\n",
    "print(result.head())\n",
    "result.to_csv('tabela_jogadores.csv', index=False, encoding='utf-8-sig', sep=';')"
   ]
  }
 ],
 "metadata": {
  "language_info": {
   "name": "python"
  }
 },
 "nbformat": 4,
 "nbformat_minor": 2
}
